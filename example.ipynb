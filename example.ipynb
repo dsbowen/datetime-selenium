{
 "cells": [
  {
   "cell_type": "code",
   "execution_count": 1,
   "metadata": {
    "ExecuteTime": {
     "end_time": "2020-06-30T15:51:17.357307Z",
     "start_time": "2020-06-30T15:51:17.230236Z"
    }
   },
   "outputs": [],
   "source": [
    "from selenium_tools import drag_range, get_datetime, send_datetime\n",
    "\n",
    "from selenium.webdriver import Chrome\n",
    "\n",
    "from datetime import datetime"
   ]
  },
  {
   "cell_type": "code",
   "execution_count": 2,
   "metadata": {
    "ExecuteTime": {
     "end_time": "2020-06-30T15:51:21.673483Z",
     "start_time": "2020-06-30T15:51:17.359247Z"
    }
   },
   "outputs": [],
   "source": [
    "driver = Chrome()\n",
    "driver.get('data:text/html,'+open('form.html').read())"
   ]
  },
  {
   "cell_type": "code",
   "execution_count": 3,
   "metadata": {
    "ExecuteTime": {
     "end_time": "2020-06-30T15:51:22.318629Z",
     "start_time": "2020-06-30T15:51:21.679618Z"
    }
   },
   "outputs": [
    {
     "name": "stdout",
     "output_type": "stream",
     "text": [
      "2020-06-30 00:00:00\n",
      "2020-06-30 15:51:00\n",
      "2020-06-01 00:00:00\n",
      "1900-01-01 15:51:00\n",
      "2020-01-01 00:00:00\n"
     ]
    }
   ],
   "source": [
    "datetime_ = datetime.utcnow()\n",
    "\n",
    "css_selectors = (\n",
    "    'input[type=date]',\n",
    "    'input[type=datetime-local]',\n",
    "    'input[type=month]',\n",
    "    'input[type=time]',\n",
    "    'input[type=week]'\n",
    ")\n",
    "for selector in css_selectors:\n",
    "    input_ = driver.find_element_by_css_selector(selector)\n",
    "    send_datetime(input_, datetime_)\n",
    "    print(get_datetime(\n",
    "        input_.get_attribute('type'), \n",
    "        input_.get_property('value')\n",
    "    ))"
   ]
  },
  {
   "cell_type": "code",
   "execution_count": 4,
   "metadata": {
    "ExecuteTime": {
     "end_time": "2020-06-30T15:51:24.906977Z",
     "start_time": "2020-06-30T15:51:22.321763Z"
    }
   },
   "outputs": [
    {
     "data": {
      "text/plain": [
       "'80'"
      ]
     },
     "execution_count": 4,
     "metadata": {},
     "output_type": "execute_result"
    }
   ],
   "source": [
    "range_ = driver.find_element_by_css_selector('input[type=range]')\n",
    "drag_range(driver, range_, 80)\n",
    "range_.get_property('value')"
   ]
  },
  {
   "cell_type": "code",
   "execution_count": 5,
   "metadata": {
    "ExecuteTime": {
     "end_time": "2020-06-30T15:51:25.095988Z",
     "start_time": "2020-06-30T15:51:24.910840Z"
    }
   },
   "outputs": [],
   "source": [
    "driver.close()"
   ]
  },
  {
   "cell_type": "code",
   "execution_count": null,
   "metadata": {},
   "outputs": [],
   "source": []
  }
 ],
 "metadata": {
  "kernelspec": {
   "display_name": "Python 3",
   "language": "python",
   "name": "python3"
  },
  "language_info": {
   "codemirror_mode": {
    "name": "ipython",
    "version": 3
   },
   "file_extension": ".py",
   "mimetype": "text/x-python",
   "name": "python",
   "nbconvert_exporter": "python",
   "pygments_lexer": "ipython3",
   "version": "3.6.8"
  },
  "toc": {
   "base_numbering": 1,
   "nav_menu": {},
   "number_sections": true,
   "sideBar": true,
   "skip_h1_title": false,
   "title_cell": "Table of Contents",
   "title_sidebar": "Contents",
   "toc_cell": false,
   "toc_position": {},
   "toc_section_display": true,
   "toc_window_display": false
  },
  "varInspector": {
   "cols": {
    "lenName": 16,
    "lenType": 16,
    "lenVar": 40
   },
   "kernels_config": {
    "python": {
     "delete_cmd_postfix": "",
     "delete_cmd_prefix": "del ",
     "library": "var_list.py",
     "varRefreshCmd": "print(var_dic_list())"
    },
    "r": {
     "delete_cmd_postfix": ") ",
     "delete_cmd_prefix": "rm(",
     "library": "var_list.r",
     "varRefreshCmd": "cat(var_dic_list()) "
    }
   },
   "types_to_exclude": [
    "module",
    "function",
    "builtin_function_or_method",
    "instance",
    "_Feature"
   ],
   "window_display": false
  }
 },
 "nbformat": 4,
 "nbformat_minor": 4
}
